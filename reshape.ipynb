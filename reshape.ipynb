{
  "nbformat": 4,
  "nbformat_minor": 0,
  "metadata": {
    "colab": {
      "provenance": [],
      "mount_file_id": "1h4c2aKznKR5PvKpSlnPAwE6hH3ljoaF6",
      "authorship_tag": "ABX9TyMLLuV9ze2VbBmTGGDWwRkT",
      "include_colab_link": true
    },
    "kernelspec": {
      "name": "python3",
      "display_name": "Python 3"
    },
    "language_info": {
      "name": "python"
    }
  },
  "cells": [
    {
      "cell_type": "markdown",
      "metadata": {
        "id": "view-in-github",
        "colab_type": "text"
      },
      "source": [
        "<a href=\"https://colab.research.google.com/github/Mastermrinal/image_reshaping-/blob/main/reshape.ipynb\" target=\"_parent\"><img src=\"https://colab.research.google.com/assets/colab-badge.svg\" alt=\"Open In Colab\"/></a>"
      ]
    },
    {
      "cell_type": "code",
      "execution_count": 1,
      "metadata": {
        "id": "xe2FUSuHMXty"
      },
      "outputs": [],
      "source": [
        "import cv2\n",
        "import os\n",
        "# setting up a working directory\n",
        "input_directory= cv2.imread('/content/drive/MyDrive/photos')\n",
        "output_directory= 'reshaped photos'\n",
        "for filename in os.listdir(input_directory):\n",
        "  if filename.endswith(\".jpg\") or filename.endswith(\".png\"):\n",
        "    image_path = os.path.join(input_directory, filename)\n",
        "    input_directory= cv2.imread('/content/drive/MyDrive/photos')\n",
        "    width = int(input_directory.shape[1] * 0.5)\n",
        "    height = int(input_directory.shape[0] * 0.5)\n",
        "    resized_image = cv2.resize(input_directory, (width, height))\n",
        "    cv2.imwrite('output_image.jpg', resized_image)\n"
      ]
    }
  ]
}